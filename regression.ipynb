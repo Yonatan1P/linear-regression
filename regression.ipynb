{
 "metadata": {
  "language_info": {
   "codemirror_mode": {
    "name": "ipython",
    "version": 3
   },
   "file_extension": ".py",
   "mimetype": "text/x-python",
   "name": "python",
   "nbconvert_exporter": "python",
   "pygments_lexer": "ipython3",
   "version": "3.9.0-final"
  },
  "orig_nbformat": 2,
  "kernelspec": {
   "name": "python3",
   "display_name": "Python 3"
  }
 },
 "nbformat": 4,
 "nbformat_minor": 2,
 "cells": [
  {
   "source": [
    "# Configure the dependencies"
   ],
   "cell_type": "markdown",
   "metadata": {}
  },
  {
   "cell_type": "code",
   "execution_count": 143,
   "metadata": {},
   "outputs": [],
   "source": [
    "import pandas as pd\n",
    "import numpy as numpy\n",
    "import matplotlib.pyplot as plt\n",
    "from sklearn.linear_model import LinearRegression\n",
    "from sklearn.model_selection import train_test_split\n",
    "import seaborn as sns"
   ]
  },
  {
   "source": [
    "# Load the data you receive into a Pandas DataFrame."
   ],
   "cell_type": "markdown",
   "metadata": {}
  },
  {
   "cell_type": "code",
   "execution_count": 144,
   "metadata": {},
   "outputs": [],
   "source": [
    "test = pd.read_csv(\"./test.csv\")\n"
   ]
  },
  {
   "source": [
    "# Show the first five rows of the data set."
   ],
   "cell_type": "markdown",
   "metadata": {}
  },
  {
   "cell_type": "code",
   "execution_count": 145,
   "metadata": {},
   "outputs": [
    {
     "output_type": "execute_result",
     "data": {
      "text/plain": [
       "    x          y\n",
       "0  77  79.775152\n",
       "1  21  23.177279\n",
       "2  22  25.609262\n",
       "3  20  17.857388\n",
       "4  36  41.849864"
      ],
      "text/html": "<div>\n<style scoped>\n    .dataframe tbody tr th:only-of-type {\n        vertical-align: middle;\n    }\n\n    .dataframe tbody tr th {\n        vertical-align: top;\n    }\n\n    .dataframe thead th {\n        text-align: right;\n    }\n</style>\n<table border=\"1\" class=\"dataframe\">\n  <thead>\n    <tr style=\"text-align: right;\">\n      <th></th>\n      <th>x</th>\n      <th>y</th>\n    </tr>\n  </thead>\n  <tbody>\n    <tr>\n      <th>0</th>\n      <td>77</td>\n      <td>79.775152</td>\n    </tr>\n    <tr>\n      <th>1</th>\n      <td>21</td>\n      <td>23.177279</td>\n    </tr>\n    <tr>\n      <th>2</th>\n      <td>22</td>\n      <td>25.609262</td>\n    </tr>\n    <tr>\n      <th>3</th>\n      <td>20</td>\n      <td>17.857388</td>\n    </tr>\n    <tr>\n      <th>4</th>\n      <td>36</td>\n      <td>41.849864</td>\n    </tr>\n  </tbody>\n</table>\n</div>"
     },
     "metadata": {},
     "execution_count": 145
    }
   ],
   "source": [
    "test.head()"
   ]
  },
  {
   "source": [
    "# Show the description and the info of the data set."
   ],
   "cell_type": "markdown",
   "metadata": {}
  },
  {
   "cell_type": "code",
   "execution_count": 146,
   "metadata": {},
   "outputs": [
    {
     "output_type": "execute_result",
     "data": {
      "text/plain": [
       "                x           y\n",
       "count  300.000000  300.000000\n",
       "mean    50.936667   51.205051\n",
       "std     28.504286   29.071481\n",
       "min      0.000000   -3.467884\n",
       "25%     27.000000   25.676502\n",
       "50%     53.000000   52.170557\n",
       "75%     73.000000   74.303007\n",
       "max    100.000000  105.591837"
      ],
      "text/html": "<div>\n<style scoped>\n    .dataframe tbody tr th:only-of-type {\n        vertical-align: middle;\n    }\n\n    .dataframe tbody tr th {\n        vertical-align: top;\n    }\n\n    .dataframe thead th {\n        text-align: right;\n    }\n</style>\n<table border=\"1\" class=\"dataframe\">\n  <thead>\n    <tr style=\"text-align: right;\">\n      <th></th>\n      <th>x</th>\n      <th>y</th>\n    </tr>\n  </thead>\n  <tbody>\n    <tr>\n      <th>count</th>\n      <td>300.000000</td>\n      <td>300.000000</td>\n    </tr>\n    <tr>\n      <th>mean</th>\n      <td>50.936667</td>\n      <td>51.205051</td>\n    </tr>\n    <tr>\n      <th>std</th>\n      <td>28.504286</td>\n      <td>29.071481</td>\n    </tr>\n    <tr>\n      <th>min</th>\n      <td>0.000000</td>\n      <td>-3.467884</td>\n    </tr>\n    <tr>\n      <th>25%</th>\n      <td>27.000000</td>\n      <td>25.676502</td>\n    </tr>\n    <tr>\n      <th>50%</th>\n      <td>53.000000</td>\n      <td>52.170557</td>\n    </tr>\n    <tr>\n      <th>75%</th>\n      <td>73.000000</td>\n      <td>74.303007</td>\n    </tr>\n    <tr>\n      <th>max</th>\n      <td>100.000000</td>\n      <td>105.591837</td>\n    </tr>\n  </tbody>\n</table>\n</div>"
     },
     "metadata": {},
     "execution_count": 146
    }
   ],
   "source": [
    "test.describe()\n"
   ]
  },
  {
   "cell_type": "code",
   "execution_count": 147,
   "metadata": {},
   "outputs": [
    {
     "output_type": "stream",
     "name": "stdout",
     "text": [
      "<class 'pandas.core.frame.DataFrame'>\nRangeIndex: 300 entries, 0 to 299\nData columns (total 2 columns):\n #   Column  Non-Null Count  Dtype  \n---  ------  --------------  -----  \n 0   x       300 non-null    int64  \n 1   y       300 non-null    float64\ndtypes: float64(1), int64(1)\nmemory usage: 4.8 KB\n"
     ]
    }
   ],
   "source": [
    "test.info()"
   ]
  },
  {
   "source": [
    "# Ensure that any date columns have been cast into a datetime object in your DataFrame.\n",
    "\n",
    "No date columns availabe"
   ],
   "cell_type": "markdown",
   "metadata": {}
  },
  {
   "source": [
    "# Using a regression model, split your data into train and test data."
   ],
   "cell_type": "markdown",
   "metadata": {}
  },
  {
   "cell_type": "code",
   "execution_count": 148,
   "metadata": {},
   "outputs": [
    {
     "output_type": "execute_result",
     "data": {
      "text/plain": [
       "array([ 77,  21,  22,  20,  36,  15,  62,  95,  20,   5,   4,  19,  96,\n",
       "        62,  36,  15,  65,  14,  87,  69,  89,  51,  89,  27,  97,  58,\n",
       "        79,  21,  93,  27,  99,  31,  33,  80,  28,  47,  53,  69,  28,\n",
       "        33,  91,  71,  50,  76,   4,  37,  70,  68,  40,  35,  94,  88,\n",
       "        52,  31,  59,   0,  39,  64,  69,  57,  13,  72,  76,  61,  82,\n",
       "        18,  41,  50,  55,  13,  46,  13,  79,  53,  15,  28,  81,  69,\n",
       "        52,  84,  68,  27,  56,  48,  40,  39,  82, 100,  59,  43,  67,\n",
       "        38,  63,  91,  60,  14,  21,  87,  73,  32,   2,  82,  19,  74,\n",
       "        42,  12,   1,  90,  89,   0,  41,  16,  94,  97,  66,  24,  17,\n",
       "        90,  13,   0,  64,  96,  98,  12,  41,  47,  78,  20,  89,  29,\n",
       "        64,  75,  12,  25,  28,  30,  65,  59,  64,  53,  71,  97,  73,\n",
       "         9,  12,  63,  99,  60,  35,   2,  60,  32,  94,  84,  63,  22,\n",
       "        81,  93,  33,   7,  42,  46,  54,  16,  49,  43,  95,  66,  21,\n",
       "        35,  80,  37,  54,  56,   1,  32,  58,  32,  46,  72,  17,  97,\n",
       "        93,  91,  37,   4,  54,  51,  27,  46,  92,  73,  77,  91,  61,\n",
       "        99,   4,  72,  19,  57,  78,  26,  74,  90,  66,  13,  40,  77,\n",
       "        67,  75,  23,  45,  59,  44,  23,  55,  55,  95,  12,   4,   7,\n",
       "       100,  48,  42,  96,  39, 100,  87,  14,  14,  37,   5,  88,  91,\n",
       "        65,  74,  56,  16,   5,  28,  92,  46,  54,  39,  44,  31,  68,\n",
       "        86,  90,  38,  21,  95,  56,  60,  65,  78,  89,   6,  67,  36,\n",
       "        16, 100,  45,  73,  57,  20,  76,  34,  55,  72,  55,   8,  56,\n",
       "        72,  58,   6,  96,  23,  58,  23,  19,  25,  64,  21,  59,  19,\n",
       "        16,  42,  43,  61,  92,  11,  41,   1,   8,  71,  46,  55,  62,\n",
       "        47])"
      ]
     },
     "metadata": {},
     "execution_count": 148
    }
   ],
   "source": [
    "X = test['x'].values\n",
    "y = test['y'].values\n"
   ]
  },
  {
   "cell_type": "code",
   "execution_count": 149,
   "metadata": {},
   "outputs": [],
   "source": [
    "X = X.reshape(-1,1)\n"
   ]
  },
  {
   "cell_type": "code",
   "execution_count": 150,
   "metadata": {},
   "outputs": [
    {
     "output_type": "execute_result",
     "data": {
      "text/plain": [
       "array([ 59.70864577,  46.56141773,  74.25362837,  38.67780759,\n",
       "        69.45498498,   6.07939007,  16.82839701,  79.77515201,\n",
       "        52.01932286,  34.58876491,  39.31485292,   7.64652976,\n",
       "        25.69041546,  87.36938931,  49.83538167,  51.83503872,\n",
       "        47.33487629,  16.63507984,  97.55155344,   0.27530726,\n",
       "        61.38800663,  77.91032969,  75.07484683,  80.97144285,\n",
       "        53.32005764,  67.22008001,   0.67607675, 101.0697879 ,\n",
       "        59.225745  ,  12.59244741,  25.60926156,  90.71481654,\n",
       "        91.69240746,  55.81628509,  91.36566374,  34.31141446,\n",
       "        26.48713683,  38.43076389,  41.84986439,  -1.63296825,\n",
       "        41.90368917,  24.18437976,  97.1082562 ,  18.84798163,\n",
       "        81.29750133,  89.12377509,  59.10598995,  70.9146434 ,\n",
       "        15.49301141,  10.80462727,  63.29717058,  95.3958003 ,\n",
       "        91.30863673,  40.24701716, 105.4503788 ,  38.68888682,\n",
       "        31.93063515,  83.68820499,  21.42637785,  18.39512747])"
      ]
     },
     "metadata": {},
     "execution_count": 150
    }
   ],
   "source": [
    "x_train, x_test, y_train, y_test = train_test_split(X,y,train_size=0.2,test_size=0.8, random_state=100)\n",
    "y_train"
   ]
  },
  {
   "cell_type": "code",
   "execution_count": 151,
   "metadata": {},
   "outputs": [
    {
     "output_type": "execute_result",
     "data": {
      "text/plain": [
       "(240,)"
      ]
     },
     "metadata": {},
     "execution_count": 151
    }
   ],
   "source": [
    "x_train.shape\n",
    "y_train.shape\n",
    "x_test.shape\n",
    "y_test.shape"
   ]
  },
  {
   "source": [
    "# Fit your training split to the regression model."
   ],
   "cell_type": "markdown",
   "metadata": {}
  },
  {
   "cell_type": "code",
   "execution_count": 152,
   "metadata": {},
   "outputs": [],
   "source": [
    "lm = LinearRegression()\n",
    "lm.fit(x_train,y_train)\n",
    "y_predict = lm.predict(x_test)\n"
   ]
  },
  {
   "source": [
    "# Show your regression model’s score.\n",
    "-First: Training Data\n",
    "\n",
    "-Second: Test Data"
   ],
   "cell_type": "markdown",
   "metadata": {}
  },
  {
   "cell_type": "code",
   "execution_count": 153,
   "metadata": {},
   "outputs": [
    {
     "output_type": "execute_result",
     "data": {
      "text/plain": [
       "99.22519786390211"
      ]
     },
     "metadata": {},
     "execution_count": 153
    }
   ],
   "source": [
    "lm.score(x_train,y_train)*100\n"
   ]
  },
  {
   "cell_type": "code",
   "execution_count": 154,
   "metadata": {},
   "outputs": [
    {
     "output_type": "execute_result",
     "data": {
      "text/plain": [
       "98.80867670823166"
      ]
     },
     "metadata": {},
     "execution_count": 154
    }
   ],
   "source": [
    "lm.score(x_test,y_test)*100\n"
   ]
  },
  {
   "source": [
    "plt.scatter(x_train,y_train, color ='blue')\n",
    "plt.plot(x_test,y_predict)\n",
    "plt.xlabel(\"X\")\n",
    "plt.ylabel(\"Y\")\n",
    "plt.title(\"Trained model plot\")\n",
    "plt.plot"
   ],
   "cell_type": "code",
   "metadata": {},
   "execution_count": 155,
   "outputs": [
    {
     "output_type": "execute_result",
     "data": {
      "text/plain": [
       "<function matplotlib.pyplot.plot(*args, scalex=True, scaley=True, data=None, **kwargs)>"
      ]
     },
     "metadata": {},
     "execution_count": 155
    },
    {
     "output_type": "display_data",
     "data": {
      "text/plain": "<Figure size 432x288 with 1 Axes>",
      "image/svg+xml": "<?xml version=\"1.0\" encoding=\"utf-8\" standalone=\"no\"?>\n<!DOCTYPE svg PUBLIC \"-//W3C//DTD SVG 1.1//EN\"\n  \"http://www.w3.org/Graphics/SVG/1.1/DTD/svg11.dtd\">\n<!-- Created with matplotlib (https://matplotlib.org/) -->\n<svg height=\"277.314375pt\" version=\"1.1\" viewBox=\"0 0 388.965625 277.314375\" width=\"388.965625pt\" xmlns=\"http://www.w3.org/2000/svg\" xmlns:xlink=\"http://www.w3.org/1999/xlink\">\n <metadata>\n  <rdf:RDF xmlns:cc=\"http://creativecommons.org/ns#\" xmlns:dc=\"http://purl.org/dc/elements/1.1/\" xmlns:rdf=\"http://www.w3.org/1999/02/22-rdf-syntax-ns#\">\n   <cc:Work>\n    <dc:type rdf:resource=\"http://purl.org/dc/dcmitype/StillImage\"/>\n    <dc:date>2020-12-01T11:48:06.808006</dc:date>\n    <dc:format>image/svg+xml</dc:format>\n    <dc:creator>\n     <cc:Agent>\n      <dc:title>Matplotlib v3.3.3, https://matplotlib.org/</dc:title>\n     </cc:Agent>\n    </dc:creator>\n   </cc:Work>\n  </rdf:RDF>\n </metadata>\n <defs>\n  <style type=\"text/css\">*{stroke-linecap:butt;stroke-linejoin:round;}</style>\n </defs>\n <g id=\"figure_1\">\n  <g id=\"patch_1\">\n   <path d=\"M -0 277.314375 \nL 388.965625 277.314375 \nL 388.965625 0 \nL -0 0 \nz\n\" style=\"fill:none;\"/>\n  </g>\n  <g id=\"axes_1\">\n   <g id=\"patch_2\">\n    <path d=\"M 46.965625 239.758125 \nL 381.765625 239.758125 \nL 381.765625 22.318125 \nL 46.965625 22.318125 \nz\n\" style=\"fill:#ffffff;\"/>\n   </g>\n   <g id=\"PathCollection_1\">\n    <defs>\n     <path d=\"M 0 3 \nC 0.795609 3 1.55874 2.683901 2.12132 2.12132 \nC 2.683901 1.55874 3 0.795609 3 0 \nC 3 -0.795609 2.683901 -1.55874 2.12132 -2.12132 \nC 1.55874 -2.683901 0.795609 -3 0 -3 \nC -0.795609 -3 -1.55874 -2.683901 -2.12132 -2.12132 \nC -2.683901 -1.55874 -3 -0.795609 -3 0 \nC -3 0.795609 -2.683901 1.55874 -2.12132 2.12132 \nC -1.55874 2.683901 -0.795609 3 0 3 \nz\n\" id=\"mddacd8808c\" style=\"stroke:#0000ff;\"/>\n    </defs>\n    <g clip-path=\"url(#pf343b93527)\">\n     <use style=\"fill:#0000ff;stroke:#0000ff;\" x=\"226.54017\" xlink:href=\"#mddacd8808c\" y=\"116.639663\"/>\n     <use style=\"fill:#0000ff;stroke:#0000ff;\" x=\"202.19108\" xlink:href=\"#mddacd8808c\" y=\"140.909061\"/>\n     <use style=\"fill:#0000ff;stroke:#0000ff;\" x=\"290.456534\" xlink:href=\"#mddacd8808c\" y=\"89.79005\"/>\n     <use style=\"fill:#0000ff;stroke:#0000ff;\" x=\"171.754716\" xlink:href=\"#mddacd8808c\" y=\"155.461975\"/>\n     <use style=\"fill:#0000ff;stroke:#0000ff;\" x=\"263.063807\" xlink:href=\"#mddacd8808c\" y=\"98.648206\"/>\n     <use style=\"fill:#0000ff;stroke:#0000ff;\" x=\"74.358352\" xlink:href=\"#mddacd8808c\" y=\"215.637701\"/>\n     <use style=\"fill:#0000ff;stroke:#0000ff;\" x=\"110.881989\" xlink:href=\"#mddacd8808c\" y=\"195.795348\"/>\n     <use style=\"fill:#0000ff;stroke:#0000ff;\" x=\"296.543807\" xlink:href=\"#mddacd8808c\" y=\"79.597479\"/>\n     <use style=\"fill:#0000ff;stroke:#0000ff;\" x=\"220.452898\" xlink:href=\"#mddacd8808c\" y=\"130.833928\"/>\n     <use style=\"fill:#0000ff;stroke:#0000ff;\" x=\"165.667443\" xlink:href=\"#mddacd8808c\" y=\"163.010228\"/>\n     <use style=\"fill:#0000ff;stroke:#0000ff;\" x=\"186.972898\" xlink:href=\"#mddacd8808c\" y=\"154.286008\"/>\n     <use style=\"fill:#0000ff;stroke:#0000ff;\" x=\"74.358352\" xlink:href=\"#mddacd8808c\" y=\"212.744807\"/>\n     <use style=\"fill:#0000ff;stroke:#0000ff;\" x=\"132.187443\" xlink:href=\"#mddacd8808c\" y=\"179.436321\"/>\n     <use style=\"fill:#0000ff;stroke:#0000ff;\" x=\"330.023807\" xlink:href=\"#mddacd8808c\" y=\"65.578739\"/>\n     <use style=\"fill:#0000ff;stroke:#0000ff;\" x=\"202.19108\" xlink:href=\"#mddacd8808c\" y=\"134.86542\"/>\n     <use style=\"fill:#0000ff;stroke:#0000ff;\" x=\"229.583807\" xlink:href=\"#mddacd8808c\" y=\"131.174111\"/>\n     <use style=\"fill:#0000ff;stroke:#0000ff;\" x=\"202.19108\" xlink:href=\"#mddacd8808c\" y=\"139.48128\"/>\n     <use style=\"fill:#0000ff;stroke:#0000ff;\" x=\"104.794716\" xlink:href=\"#mddacd8808c\" y=\"196.152206\"/>\n     <use style=\"fill:#0000ff;stroke:#0000ff;\" x=\"363.503807\" xlink:href=\"#mddacd8808c\" y=\"46.782762\"/>\n     <use style=\"fill:#0000ff;stroke:#0000ff;\" x=\"65.227443\" xlink:href=\"#mddacd8808c\" y=\"226.351868\"/>\n     <use style=\"fill:#0000ff;stroke:#0000ff;\" x=\"250.889261\" xlink:href=\"#mddacd8808c\" y=\"113.539612\"/>\n     <use style=\"fill:#0000ff;stroke:#0000ff;\" x=\"302.63108\" xlink:href=\"#mddacd8808c\" y=\"83.039887\"/>\n     <use style=\"fill:#0000ff;stroke:#0000ff;\" x=\"287.412898\" xlink:href=\"#mddacd8808c\" y=\"88.274105\"/>\n     <use style=\"fill:#0000ff;stroke:#0000ff;\" x=\"296.543807\" xlink:href=\"#mddacd8808c\" y=\"77.389161\"/>\n     <use style=\"fill:#0000ff;stroke:#0000ff;\" x=\"226.54017\" xlink:href=\"#mddacd8808c\" y=\"128.43281\"/>\n     <use style=\"fill:#0000ff;stroke:#0000ff;\" x=\"263.063807\" xlink:href=\"#mddacd8808c\" y=\"102.773775\"/>\n     <use style=\"fill:#0000ff;stroke:#0000ff;\" x=\"77.401989\" xlink:href=\"#mddacd8808c\" y=\"225.612059\"/>\n     <use style=\"fill:#0000ff;stroke:#0000ff;\" x=\"357.416534\" xlink:href=\"#mddacd8808c\" y=\"40.288204\"/>\n     <use style=\"fill:#0000ff;stroke:#0000ff;\" x=\"247.845625\" xlink:href=\"#mddacd8808c\" y=\"117.531084\"/>\n     <use style=\"fill:#0000ff;stroke:#0000ff;\" x=\"98.707443\" xlink:href=\"#mddacd8808c\" y=\"203.614787\"/>\n     <use style=\"fill:#0000ff;stroke:#0000ff;\" x=\"129.143807\" xlink:href=\"#mddacd8808c\" y=\"179.586129\"/>\n     <use style=\"fill:#0000ff;stroke:#0000ff;\" x=\"351.329261\" xlink:href=\"#mddacd8808c\" y=\"59.403178\"/>\n     <use style=\"fill:#0000ff;stroke:#0000ff;\" x=\"339.154716\" xlink:href=\"#mddacd8808c\" y=\"57.598574\"/>\n     <use style=\"fill:#0000ff;stroke:#0000ff;\" x=\"229.583807\" xlink:href=\"#mddacd8808c\" y=\"123.824847\"/>\n     <use style=\"fill:#0000ff;stroke:#0000ff;\" x=\"339.154716\" xlink:href=\"#mddacd8808c\" y=\"58.201733\"/>\n     <use style=\"fill:#0000ff;stroke:#0000ff;\" x=\"168.71108\" xlink:href=\"#mddacd8808c\" y=\"163.522209\"/>\n     <use style=\"fill:#0000ff;stroke:#0000ff;\" x=\"153.492898\" xlink:href=\"#mddacd8808c\" y=\"177.965597\"/>\n     <use style=\"fill:#0000ff;stroke:#0000ff;\" x=\"177.841989\" xlink:href=\"#mddacd8808c\" y=\"155.918011\"/>\n     <use style=\"fill:#0000ff;stroke:#0000ff;\" x=\"171.754716\" xlink:href=\"#mddacd8808c\" y=\"149.606451\"/>\n     <use style=\"fill:#0000ff;stroke:#0000ff;\" x=\"68.27108\" xlink:href=\"#mddacd8808c\" y=\"229.874489\"/>\n     <use style=\"fill:#0000ff;stroke:#0000ff;\" x=\"199.147443\" xlink:href=\"#mddacd8808c\" y=\"149.507092\"/>\n     <use style=\"fill:#0000ff;stroke:#0000ff;\" x=\"156.536534\" xlink:href=\"#mddacd8808c\" y=\"182.216419\"/>\n     <use style=\"fill:#0000ff;stroke:#0000ff;\" x=\"357.416534\" xlink:href=\"#mddacd8808c\" y=\"47.601076\"/>\n     <use style=\"fill:#0000ff;stroke:#0000ff;\" x=\"129.143807\" xlink:href=\"#mddacd8808c\" y=\"192.067254\"/>\n     <use style=\"fill:#0000ff;stroke:#0000ff;\" x=\"311.761989\" xlink:href=\"#mddacd8808c\" y=\"76.787267\"/>\n     <use style=\"fill:#0000ff;stroke:#0000ff;\" x=\"339.154716\" xlink:href=\"#mddacd8808c\" y=\"62.340194\"/>\n     <use style=\"fill:#0000ff;stroke:#0000ff;\" x=\"241.758352\" xlink:href=\"#mddacd8808c\" y=\"117.752148\"/>\n     <use style=\"fill:#0000ff;stroke:#0000ff;\" x=\"272.194716\" xlink:href=\"#mddacd8808c\" y=\"95.953719\"/>\n     <use style=\"fill:#0000ff;stroke:#0000ff;\" x=\"104.794716\" xlink:href=\"#mddacd8808c\" y=\"198.260431\"/>\n     <use style=\"fill:#0000ff;stroke:#0000ff;\" x=\"89.576534\" xlink:href=\"#mddacd8808c\" y=\"206.915051\"/>\n     <use style=\"fill:#0000ff;stroke:#0000ff;\" x=\"250.889261\" xlink:href=\"#mddacd8808c\" y=\"110.015351\"/>\n     <use style=\"fill:#0000ff;stroke:#0000ff;\" x=\"342.198352\" xlink:href=\"#mddacd8808c\" y=\"50.762219\"/>\n     <use style=\"fill:#0000ff;stroke:#0000ff;\" x=\"342.198352\" xlink:href=\"#mddacd8808c\" y=\"58.307004\"/>\n     <use style=\"fill:#0000ff;stroke:#0000ff;\" x=\"171.754716\" xlink:href=\"#mddacd8808c\" y=\"152.56526\"/>\n     <use style=\"fill:#0000ff;stroke:#0000ff;\" x=\"366.547443\" xlink:href=\"#mddacd8808c\" y=\"32.201761\"/>\n     <use style=\"fill:#0000ff;stroke:#0000ff;\" x=\"186.972898\" xlink:href=\"#mddacd8808c\" y=\"155.441523\"/>\n     <use style=\"fill:#0000ff;stroke:#0000ff;\" x=\"156.536534\" xlink:href=\"#mddacd8808c\" y=\"167.917058\"/>\n     <use style=\"fill:#0000ff;stroke:#0000ff;\" x=\"317.849261\" xlink:href=\"#mddacd8808c\" y=\"72.374098\"/>\n     <use style=\"fill:#0000ff;stroke:#0000ff;\" x=\"120.012898\" xlink:href=\"#mddacd8808c\" y=\"187.30761\"/>\n     <use style=\"fill:#0000ff;stroke:#0000ff;\" x=\"123.056534\" xlink:href=\"#mddacd8808c\" y=\"192.90321\"/>\n    </g>\n   </g>\n   <g id=\"matplotlib.axis_1\">\n    <g id=\"xtick_1\">\n     <g id=\"line2d_1\">\n      <defs>\n       <path d=\"M 0 0 \nL 0 3.5 \n\" id=\"m94faef3962\" style=\"stroke:#000000;stroke-width:0.8;\"/>\n      </defs>\n      <g>\n       <use style=\"stroke:#000000;stroke-width:0.8;\" x=\"62.183807\" xlink:href=\"#m94faef3962\" y=\"239.758125\"/>\n      </g>\n     </g>\n     <g id=\"text_1\">\n      <!-- 0 -->\n      <g transform=\"translate(59.002557 254.356562)scale(0.1 -0.1)\">\n       <defs>\n        <path d=\"M 31.78125 66.40625 \nQ 24.171875 66.40625 20.328125 58.90625 \nQ 16.5 51.421875 16.5 36.375 \nQ 16.5 21.390625 20.328125 13.890625 \nQ 24.171875 6.390625 31.78125 6.390625 \nQ 39.453125 6.390625 43.28125 13.890625 \nQ 47.125 21.390625 47.125 36.375 \nQ 47.125 51.421875 43.28125 58.90625 \nQ 39.453125 66.40625 31.78125 66.40625 \nz\nM 31.78125 74.21875 \nQ 44.046875 74.21875 50.515625 64.515625 \nQ 56.984375 54.828125 56.984375 36.375 \nQ 56.984375 17.96875 50.515625 8.265625 \nQ 44.046875 -1.421875 31.78125 -1.421875 \nQ 19.53125 -1.421875 13.0625 8.265625 \nQ 6.59375 17.96875 6.59375 36.375 \nQ 6.59375 54.828125 13.0625 64.515625 \nQ 19.53125 74.21875 31.78125 74.21875 \nz\n\" id=\"DejaVuSans-48\"/>\n       </defs>\n       <use xlink:href=\"#DejaVuSans-48\"/>\n      </g>\n     </g>\n    </g>\n    <g id=\"xtick_2\">\n     <g id=\"line2d_2\">\n      <g>\n       <use style=\"stroke:#000000;stroke-width:0.8;\" x=\"123.056534\" xlink:href=\"#m94faef3962\" y=\"239.758125\"/>\n      </g>\n     </g>\n     <g id=\"text_2\">\n      <!-- 20 -->\n      <g transform=\"translate(116.694034 254.356562)scale(0.1 -0.1)\">\n       <defs>\n        <path d=\"M 19.1875 8.296875 \nL 53.609375 8.296875 \nL 53.609375 0 \nL 7.328125 0 \nL 7.328125 8.296875 \nQ 12.9375 14.109375 22.625 23.890625 \nQ 32.328125 33.6875 34.8125 36.53125 \nQ 39.546875 41.84375 41.421875 45.53125 \nQ 43.3125 49.21875 43.3125 52.78125 \nQ 43.3125 58.59375 39.234375 62.25 \nQ 35.15625 65.921875 28.609375 65.921875 \nQ 23.96875 65.921875 18.8125 64.3125 \nQ 13.671875 62.703125 7.8125 59.421875 \nL 7.8125 69.390625 \nQ 13.765625 71.78125 18.9375 73 \nQ 24.125 74.21875 28.421875 74.21875 \nQ 39.75 74.21875 46.484375 68.546875 \nQ 53.21875 62.890625 53.21875 53.421875 \nQ 53.21875 48.921875 51.53125 44.890625 \nQ 49.859375 40.875 45.40625 35.40625 \nQ 44.1875 33.984375 37.640625 27.21875 \nQ 31.109375 20.453125 19.1875 8.296875 \nz\n\" id=\"DejaVuSans-50\"/>\n       </defs>\n       <use xlink:href=\"#DejaVuSans-50\"/>\n       <use x=\"63.623047\" xlink:href=\"#DejaVuSans-48\"/>\n      </g>\n     </g>\n    </g>\n    <g id=\"xtick_3\">\n     <g id=\"line2d_3\">\n      <g>\n       <use style=\"stroke:#000000;stroke-width:0.8;\" x=\"183.929261\" xlink:href=\"#m94faef3962\" y=\"239.758125\"/>\n      </g>\n     </g>\n     <g id=\"text_3\">\n      <!-- 40 -->\n      <g transform=\"translate(177.566761 254.356562)scale(0.1 -0.1)\">\n       <defs>\n        <path d=\"M 37.796875 64.3125 \nL 12.890625 25.390625 \nL 37.796875 25.390625 \nz\nM 35.203125 72.90625 \nL 47.609375 72.90625 \nL 47.609375 25.390625 \nL 58.015625 25.390625 \nL 58.015625 17.1875 \nL 47.609375 17.1875 \nL 47.609375 0 \nL 37.796875 0 \nL 37.796875 17.1875 \nL 4.890625 17.1875 \nL 4.890625 26.703125 \nz\n\" id=\"DejaVuSans-52\"/>\n       </defs>\n       <use xlink:href=\"#DejaVuSans-52\"/>\n       <use x=\"63.623047\" xlink:href=\"#DejaVuSans-48\"/>\n      </g>\n     </g>\n    </g>\n    <g id=\"xtick_4\">\n     <g id=\"line2d_4\">\n      <g>\n       <use style=\"stroke:#000000;stroke-width:0.8;\" x=\"244.801989\" xlink:href=\"#m94faef3962\" y=\"239.758125\"/>\n      </g>\n     </g>\n     <g id=\"text_4\">\n      <!-- 60 -->\n      <g transform=\"translate(238.439489 254.356562)scale(0.1 -0.1)\">\n       <defs>\n        <path d=\"M 33.015625 40.375 \nQ 26.375 40.375 22.484375 35.828125 \nQ 18.609375 31.296875 18.609375 23.390625 \nQ 18.609375 15.53125 22.484375 10.953125 \nQ 26.375 6.390625 33.015625 6.390625 \nQ 39.65625 6.390625 43.53125 10.953125 \nQ 47.40625 15.53125 47.40625 23.390625 \nQ 47.40625 31.296875 43.53125 35.828125 \nQ 39.65625 40.375 33.015625 40.375 \nz\nM 52.59375 71.296875 \nL 52.59375 62.3125 \nQ 48.875 64.0625 45.09375 64.984375 \nQ 41.3125 65.921875 37.59375 65.921875 \nQ 27.828125 65.921875 22.671875 59.328125 \nQ 17.53125 52.734375 16.796875 39.40625 \nQ 19.671875 43.65625 24.015625 45.921875 \nQ 28.375 48.1875 33.59375 48.1875 \nQ 44.578125 48.1875 50.953125 41.515625 \nQ 57.328125 34.859375 57.328125 23.390625 \nQ 57.328125 12.15625 50.6875 5.359375 \nQ 44.046875 -1.421875 33.015625 -1.421875 \nQ 20.359375 -1.421875 13.671875 8.265625 \nQ 6.984375 17.96875 6.984375 36.375 \nQ 6.984375 53.65625 15.1875 63.9375 \nQ 23.390625 74.21875 37.203125 74.21875 \nQ 40.921875 74.21875 44.703125 73.484375 \nQ 48.484375 72.75 52.59375 71.296875 \nz\n\" id=\"DejaVuSans-54\"/>\n       </defs>\n       <use xlink:href=\"#DejaVuSans-54\"/>\n       <use x=\"63.623047\" xlink:href=\"#DejaVuSans-48\"/>\n      </g>\n     </g>\n    </g>\n    <g id=\"xtick_5\">\n     <g id=\"line2d_5\">\n      <g>\n       <use style=\"stroke:#000000;stroke-width:0.8;\" x=\"305.674716\" xlink:href=\"#m94faef3962\" y=\"239.758125\"/>\n      </g>\n     </g>\n     <g id=\"text_5\">\n      <!-- 80 -->\n      <g transform=\"translate(299.312216 254.356562)scale(0.1 -0.1)\">\n       <defs>\n        <path d=\"M 31.78125 34.625 \nQ 24.75 34.625 20.71875 30.859375 \nQ 16.703125 27.09375 16.703125 20.515625 \nQ 16.703125 13.921875 20.71875 10.15625 \nQ 24.75 6.390625 31.78125 6.390625 \nQ 38.8125 6.390625 42.859375 10.171875 \nQ 46.921875 13.96875 46.921875 20.515625 \nQ 46.921875 27.09375 42.890625 30.859375 \nQ 38.875 34.625 31.78125 34.625 \nz\nM 21.921875 38.8125 \nQ 15.578125 40.375 12.03125 44.71875 \nQ 8.5 49.078125 8.5 55.328125 \nQ 8.5 64.0625 14.71875 69.140625 \nQ 20.953125 74.21875 31.78125 74.21875 \nQ 42.671875 74.21875 48.875 69.140625 \nQ 55.078125 64.0625 55.078125 55.328125 \nQ 55.078125 49.078125 51.53125 44.71875 \nQ 48 40.375 41.703125 38.8125 \nQ 48.828125 37.15625 52.796875 32.3125 \nQ 56.78125 27.484375 56.78125 20.515625 \nQ 56.78125 9.90625 50.3125 4.234375 \nQ 43.84375 -1.421875 31.78125 -1.421875 \nQ 19.734375 -1.421875 13.25 4.234375 \nQ 6.78125 9.90625 6.78125 20.515625 \nQ 6.78125 27.484375 10.78125 32.3125 \nQ 14.796875 37.15625 21.921875 38.8125 \nz\nM 18.3125 54.390625 \nQ 18.3125 48.734375 21.84375 45.5625 \nQ 25.390625 42.390625 31.78125 42.390625 \nQ 38.140625 42.390625 41.71875 45.5625 \nQ 45.3125 48.734375 45.3125 54.390625 \nQ 45.3125 60.0625 41.71875 63.234375 \nQ 38.140625 66.40625 31.78125 66.40625 \nQ 25.390625 66.40625 21.84375 63.234375 \nQ 18.3125 60.0625 18.3125 54.390625 \nz\n\" id=\"DejaVuSans-56\"/>\n       </defs>\n       <use xlink:href=\"#DejaVuSans-56\"/>\n       <use x=\"63.623047\" xlink:href=\"#DejaVuSans-48\"/>\n      </g>\n     </g>\n    </g>\n    <g id=\"xtick_6\">\n     <g id=\"line2d_6\">\n      <g>\n       <use style=\"stroke:#000000;stroke-width:0.8;\" x=\"366.547443\" xlink:href=\"#m94faef3962\" y=\"239.758125\"/>\n      </g>\n     </g>\n     <g id=\"text_6\">\n      <!-- 100 -->\n      <g transform=\"translate(357.003693 254.356562)scale(0.1 -0.1)\">\n       <defs>\n        <path d=\"M 12.40625 8.296875 \nL 28.515625 8.296875 \nL 28.515625 63.921875 \nL 10.984375 60.40625 \nL 10.984375 69.390625 \nL 28.421875 72.90625 \nL 38.28125 72.90625 \nL 38.28125 8.296875 \nL 54.390625 8.296875 \nL 54.390625 0 \nL 12.40625 0 \nz\n\" id=\"DejaVuSans-49\"/>\n       </defs>\n       <use xlink:href=\"#DejaVuSans-49\"/>\n       <use x=\"63.623047\" xlink:href=\"#DejaVuSans-48\"/>\n       <use x=\"127.246094\" xlink:href=\"#DejaVuSans-48\"/>\n      </g>\n     </g>\n    </g>\n    <g id=\"text_7\">\n     <!-- X -->\n     <g transform=\"translate(210.940625 268.034687)scale(0.1 -0.1)\">\n      <defs>\n       <path d=\"M 6.296875 72.90625 \nL 16.890625 72.90625 \nL 35.015625 45.796875 \nL 53.21875 72.90625 \nL 63.8125 72.90625 \nL 40.375 37.890625 \nL 65.375 0 \nL 54.78125 0 \nL 34.28125 31 \nL 13.625 0 \nL 2.984375 0 \nL 29 38.921875 \nz\n\" id=\"DejaVuSans-88\"/>\n      </defs>\n      <use xlink:href=\"#DejaVuSans-88\"/>\n     </g>\n    </g>\n   </g>\n   <g id=\"matplotlib.axis_2\">\n    <g id=\"ytick_1\">\n     <g id=\"line2d_7\">\n      <defs>\n       <path d=\"M 0 0 \nL -3.5 0 \n\" id=\"med0ab2add5\" style=\"stroke:#000000;stroke-width:0.8;\"/>\n      </defs>\n      <g>\n       <use style=\"stroke:#000000;stroke-width:0.8;\" x=\"46.965625\" xlink:href=\"#med0ab2add5\" y=\"226.860077\"/>\n      </g>\n     </g>\n     <g id=\"text_8\">\n      <!-- 0 -->\n      <g transform=\"translate(33.603125 230.659296)scale(0.1 -0.1)\">\n       <use xlink:href=\"#DejaVuSans-48\"/>\n      </g>\n     </g>\n    </g>\n    <g id=\"ytick_2\">\n     <g id=\"line2d_8\">\n      <g>\n       <use style=\"stroke:#000000;stroke-width:0.8;\" x=\"46.965625\" xlink:href=\"#med0ab2add5\" y=\"189.940662\"/>\n      </g>\n     </g>\n     <g id=\"text_9\">\n      <!-- 20 -->\n      <g transform=\"translate(27.240625 193.739881)scale(0.1 -0.1)\">\n       <use xlink:href=\"#DejaVuSans-50\"/>\n       <use x=\"63.623047\" xlink:href=\"#DejaVuSans-48\"/>\n      </g>\n     </g>\n    </g>\n    <g id=\"ytick_3\">\n     <g id=\"line2d_9\">\n      <g>\n       <use style=\"stroke:#000000;stroke-width:0.8;\" x=\"46.965625\" xlink:href=\"#med0ab2add5\" y=\"153.021247\"/>\n      </g>\n     </g>\n     <g id=\"text_10\">\n      <!-- 40 -->\n      <g transform=\"translate(27.240625 156.820465)scale(0.1 -0.1)\">\n       <use xlink:href=\"#DejaVuSans-52\"/>\n       <use x=\"63.623047\" xlink:href=\"#DejaVuSans-48\"/>\n      </g>\n     </g>\n    </g>\n    <g id=\"ytick_4\">\n     <g id=\"line2d_10\">\n      <g>\n       <use style=\"stroke:#000000;stroke-width:0.8;\" x=\"46.965625\" xlink:href=\"#med0ab2add5\" y=\"116.101832\"/>\n      </g>\n     </g>\n     <g id=\"text_11\">\n      <!-- 60 -->\n      <g transform=\"translate(27.240625 119.90105)scale(0.1 -0.1)\">\n       <use xlink:href=\"#DejaVuSans-54\"/>\n       <use x=\"63.623047\" xlink:href=\"#DejaVuSans-48\"/>\n      </g>\n     </g>\n    </g>\n    <g id=\"ytick_5\">\n     <g id=\"line2d_11\">\n      <g>\n       <use style=\"stroke:#000000;stroke-width:0.8;\" x=\"46.965625\" xlink:href=\"#med0ab2add5\" y=\"79.182416\"/>\n      </g>\n     </g>\n     <g id=\"text_12\">\n      <!-- 80 -->\n      <g transform=\"translate(27.240625 82.981635)scale(0.1 -0.1)\">\n       <use xlink:href=\"#DejaVuSans-56\"/>\n       <use x=\"63.623047\" xlink:href=\"#DejaVuSans-48\"/>\n      </g>\n     </g>\n    </g>\n    <g id=\"ytick_6\">\n     <g id=\"line2d_12\">\n      <g>\n       <use style=\"stroke:#000000;stroke-width:0.8;\" x=\"46.965625\" xlink:href=\"#med0ab2add5\" y=\"42.263001\"/>\n      </g>\n     </g>\n     <g id=\"text_13\">\n      <!-- 100 -->\n      <g transform=\"translate(20.878125 46.06222)scale(0.1 -0.1)\">\n       <use xlink:href=\"#DejaVuSans-49\"/>\n       <use x=\"63.623047\" xlink:href=\"#DejaVuSans-48\"/>\n       <use x=\"127.246094\" xlink:href=\"#DejaVuSans-48\"/>\n      </g>\n     </g>\n    </g>\n    <g id=\"text_14\">\n     <!-- Y -->\n     <g transform=\"translate(14.798438 134.092031)rotate(-90)scale(0.1 -0.1)\">\n      <defs>\n       <path d=\"M -0.203125 72.90625 \nL 10.40625 72.90625 \nL 30.609375 42.921875 \nL 50.6875 72.90625 \nL 61.28125 72.90625 \nL 35.5 34.71875 \nL 35.5 0 \nL 25.59375 0 \nL 25.59375 34.71875 \nz\n\" id=\"DejaVuSans-89\"/>\n      </defs>\n      <use xlink:href=\"#DejaVuSans-89\"/>\n     </g>\n    </g>\n   </g>\n   <g id=\"line2d_13\">\n    <path clip-path=\"url(#pf343b93527)\" d=\"M 208.278352 137.382414 \nL 366.547443 40.937205 \nL 62.183807 226.408761 \nL 241.758352 116.980543 \n\" style=\"fill:none;stroke:#1f77b4;stroke-linecap:square;stroke-width:1.5;\"/>\n   </g>\n   <g id=\"patch_3\">\n    <path d=\"M 46.965625 239.758125 \nL 46.965625 22.318125 \n\" style=\"fill:none;stroke:#000000;stroke-linecap:square;stroke-linejoin:miter;stroke-width:0.8;\"/>\n   </g>\n   <g id=\"patch_4\">\n    <path d=\"M 381.765625 239.758125 \nL 381.765625 22.318125 \n\" style=\"fill:none;stroke:#000000;stroke-linecap:square;stroke-linejoin:miter;stroke-width:0.8;\"/>\n   </g>\n   <g id=\"patch_5\">\n    <path d=\"M 46.965625 239.758125 \nL 381.765625 239.758125 \n\" style=\"fill:none;stroke:#000000;stroke-linecap:square;stroke-linejoin:miter;stroke-width:0.8;\"/>\n   </g>\n   <g id=\"patch_6\">\n    <path d=\"M 46.965625 22.318125 \nL 381.765625 22.318125 \n\" style=\"fill:none;stroke:#000000;stroke-linecap:square;stroke-linejoin:miter;stroke-width:0.8;\"/>\n   </g>\n   <g id=\"text_15\">\n    <!-- Trained model plot -->\n    <g transform=\"translate(158.475625 16.318125)scale(0.12 -0.12)\">\n     <defs>\n      <path d=\"M -0.296875 72.90625 \nL 61.375 72.90625 \nL 61.375 64.59375 \nL 35.5 64.59375 \nL 35.5 0 \nL 25.59375 0 \nL 25.59375 64.59375 \nL -0.296875 64.59375 \nz\n\" id=\"DejaVuSans-84\"/>\n      <path d=\"M 41.109375 46.296875 \nQ 39.59375 47.171875 37.8125 47.578125 \nQ 36.03125 48 33.890625 48 \nQ 26.265625 48 22.1875 43.046875 \nQ 18.109375 38.09375 18.109375 28.8125 \nL 18.109375 0 \nL 9.078125 0 \nL 9.078125 54.6875 \nL 18.109375 54.6875 \nL 18.109375 46.1875 \nQ 20.953125 51.171875 25.484375 53.578125 \nQ 30.03125 56 36.53125 56 \nQ 37.453125 56 38.578125 55.875 \nQ 39.703125 55.765625 41.0625 55.515625 \nz\n\" id=\"DejaVuSans-114\"/>\n      <path d=\"M 34.28125 27.484375 \nQ 23.390625 27.484375 19.1875 25 \nQ 14.984375 22.515625 14.984375 16.5 \nQ 14.984375 11.71875 18.140625 8.90625 \nQ 21.296875 6.109375 26.703125 6.109375 \nQ 34.1875 6.109375 38.703125 11.40625 \nQ 43.21875 16.703125 43.21875 25.484375 \nL 43.21875 27.484375 \nz\nM 52.203125 31.203125 \nL 52.203125 0 \nL 43.21875 0 \nL 43.21875 8.296875 \nQ 40.140625 3.328125 35.546875 0.953125 \nQ 30.953125 -1.421875 24.3125 -1.421875 \nQ 15.921875 -1.421875 10.953125 3.296875 \nQ 6 8.015625 6 15.921875 \nQ 6 25.140625 12.171875 29.828125 \nQ 18.359375 34.515625 30.609375 34.515625 \nL 43.21875 34.515625 \nL 43.21875 35.40625 \nQ 43.21875 41.609375 39.140625 45 \nQ 35.0625 48.390625 27.6875 48.390625 \nQ 23 48.390625 18.546875 47.265625 \nQ 14.109375 46.140625 10.015625 43.890625 \nL 10.015625 52.203125 \nQ 14.9375 54.109375 19.578125 55.046875 \nQ 24.21875 56 28.609375 56 \nQ 40.484375 56 46.34375 49.84375 \nQ 52.203125 43.703125 52.203125 31.203125 \nz\n\" id=\"DejaVuSans-97\"/>\n      <path d=\"M 9.421875 54.6875 \nL 18.40625 54.6875 \nL 18.40625 0 \nL 9.421875 0 \nz\nM 9.421875 75.984375 \nL 18.40625 75.984375 \nL 18.40625 64.59375 \nL 9.421875 64.59375 \nz\n\" id=\"DejaVuSans-105\"/>\n      <path d=\"M 54.890625 33.015625 \nL 54.890625 0 \nL 45.90625 0 \nL 45.90625 32.71875 \nQ 45.90625 40.484375 42.875 44.328125 \nQ 39.84375 48.1875 33.796875 48.1875 \nQ 26.515625 48.1875 22.3125 43.546875 \nQ 18.109375 38.921875 18.109375 30.90625 \nL 18.109375 0 \nL 9.078125 0 \nL 9.078125 54.6875 \nL 18.109375 54.6875 \nL 18.109375 46.1875 \nQ 21.34375 51.125 25.703125 53.5625 \nQ 30.078125 56 35.796875 56 \nQ 45.21875 56 50.046875 50.171875 \nQ 54.890625 44.34375 54.890625 33.015625 \nz\n\" id=\"DejaVuSans-110\"/>\n      <path d=\"M 56.203125 29.59375 \nL 56.203125 25.203125 \nL 14.890625 25.203125 \nQ 15.484375 15.921875 20.484375 11.0625 \nQ 25.484375 6.203125 34.421875 6.203125 \nQ 39.59375 6.203125 44.453125 7.46875 \nQ 49.3125 8.734375 54.109375 11.28125 \nL 54.109375 2.78125 \nQ 49.265625 0.734375 44.1875 -0.34375 \nQ 39.109375 -1.421875 33.890625 -1.421875 \nQ 20.796875 -1.421875 13.15625 6.1875 \nQ 5.515625 13.8125 5.515625 26.8125 \nQ 5.515625 40.234375 12.765625 48.109375 \nQ 20.015625 56 32.328125 56 \nQ 43.359375 56 49.78125 48.890625 \nQ 56.203125 41.796875 56.203125 29.59375 \nz\nM 47.21875 32.234375 \nQ 47.125 39.59375 43.09375 43.984375 \nQ 39.0625 48.390625 32.421875 48.390625 \nQ 24.90625 48.390625 20.390625 44.140625 \nQ 15.875 39.890625 15.1875 32.171875 \nz\n\" id=\"DejaVuSans-101\"/>\n      <path d=\"M 45.40625 46.390625 \nL 45.40625 75.984375 \nL 54.390625 75.984375 \nL 54.390625 0 \nL 45.40625 0 \nL 45.40625 8.203125 \nQ 42.578125 3.328125 38.25 0.953125 \nQ 33.9375 -1.421875 27.875 -1.421875 \nQ 17.96875 -1.421875 11.734375 6.484375 \nQ 5.515625 14.40625 5.515625 27.296875 \nQ 5.515625 40.1875 11.734375 48.09375 \nQ 17.96875 56 27.875 56 \nQ 33.9375 56 38.25 53.625 \nQ 42.578125 51.265625 45.40625 46.390625 \nz\nM 14.796875 27.296875 \nQ 14.796875 17.390625 18.875 11.75 \nQ 22.953125 6.109375 30.078125 6.109375 \nQ 37.203125 6.109375 41.296875 11.75 \nQ 45.40625 17.390625 45.40625 27.296875 \nQ 45.40625 37.203125 41.296875 42.84375 \nQ 37.203125 48.484375 30.078125 48.484375 \nQ 22.953125 48.484375 18.875 42.84375 \nQ 14.796875 37.203125 14.796875 27.296875 \nz\n\" id=\"DejaVuSans-100\"/>\n      <path id=\"DejaVuSans-32\"/>\n      <path d=\"M 52 44.1875 \nQ 55.375 50.25 60.0625 53.125 \nQ 64.75 56 71.09375 56 \nQ 79.640625 56 84.28125 50.015625 \nQ 88.921875 44.046875 88.921875 33.015625 \nL 88.921875 0 \nL 79.890625 0 \nL 79.890625 32.71875 \nQ 79.890625 40.578125 77.09375 44.375 \nQ 74.3125 48.1875 68.609375 48.1875 \nQ 61.625 48.1875 57.5625 43.546875 \nQ 53.515625 38.921875 53.515625 30.90625 \nL 53.515625 0 \nL 44.484375 0 \nL 44.484375 32.71875 \nQ 44.484375 40.625 41.703125 44.40625 \nQ 38.921875 48.1875 33.109375 48.1875 \nQ 26.21875 48.1875 22.15625 43.53125 \nQ 18.109375 38.875 18.109375 30.90625 \nL 18.109375 0 \nL 9.078125 0 \nL 9.078125 54.6875 \nL 18.109375 54.6875 \nL 18.109375 46.1875 \nQ 21.1875 51.21875 25.484375 53.609375 \nQ 29.78125 56 35.6875 56 \nQ 41.65625 56 45.828125 52.96875 \nQ 50 49.953125 52 44.1875 \nz\n\" id=\"DejaVuSans-109\"/>\n      <path d=\"M 30.609375 48.390625 \nQ 23.390625 48.390625 19.1875 42.75 \nQ 14.984375 37.109375 14.984375 27.296875 \nQ 14.984375 17.484375 19.15625 11.84375 \nQ 23.34375 6.203125 30.609375 6.203125 \nQ 37.796875 6.203125 41.984375 11.859375 \nQ 46.1875 17.53125 46.1875 27.296875 \nQ 46.1875 37.015625 41.984375 42.703125 \nQ 37.796875 48.390625 30.609375 48.390625 \nz\nM 30.609375 56 \nQ 42.328125 56 49.015625 48.375 \nQ 55.71875 40.765625 55.71875 27.296875 \nQ 55.71875 13.875 49.015625 6.21875 \nQ 42.328125 -1.421875 30.609375 -1.421875 \nQ 18.84375 -1.421875 12.171875 6.21875 \nQ 5.515625 13.875 5.515625 27.296875 \nQ 5.515625 40.765625 12.171875 48.375 \nQ 18.84375 56 30.609375 56 \nz\n\" id=\"DejaVuSans-111\"/>\n      <path d=\"M 9.421875 75.984375 \nL 18.40625 75.984375 \nL 18.40625 0 \nL 9.421875 0 \nz\n\" id=\"DejaVuSans-108\"/>\n      <path d=\"M 18.109375 8.203125 \nL 18.109375 -20.796875 \nL 9.078125 -20.796875 \nL 9.078125 54.6875 \nL 18.109375 54.6875 \nL 18.109375 46.390625 \nQ 20.953125 51.265625 25.265625 53.625 \nQ 29.59375 56 35.59375 56 \nQ 45.5625 56 51.78125 48.09375 \nQ 58.015625 40.1875 58.015625 27.296875 \nQ 58.015625 14.40625 51.78125 6.484375 \nQ 45.5625 -1.421875 35.59375 -1.421875 \nQ 29.59375 -1.421875 25.265625 0.953125 \nQ 20.953125 3.328125 18.109375 8.203125 \nz\nM 48.6875 27.296875 \nQ 48.6875 37.203125 44.609375 42.84375 \nQ 40.53125 48.484375 33.40625 48.484375 \nQ 26.265625 48.484375 22.1875 42.84375 \nQ 18.109375 37.203125 18.109375 27.296875 \nQ 18.109375 17.390625 22.1875 11.75 \nQ 26.265625 6.109375 33.40625 6.109375 \nQ 40.53125 6.109375 44.609375 11.75 \nQ 48.6875 17.390625 48.6875 27.296875 \nz\n\" id=\"DejaVuSans-112\"/>\n      <path d=\"M 18.3125 70.21875 \nL 18.3125 54.6875 \nL 36.8125 54.6875 \nL 36.8125 47.703125 \nL 18.3125 47.703125 \nL 18.3125 18.015625 \nQ 18.3125 11.328125 20.140625 9.421875 \nQ 21.96875 7.515625 27.59375 7.515625 \nL 36.8125 7.515625 \nL 36.8125 0 \nL 27.59375 0 \nQ 17.1875 0 13.234375 3.875 \nQ 9.28125 7.765625 9.28125 18.015625 \nL 9.28125 47.703125 \nL 2.6875 47.703125 \nL 2.6875 54.6875 \nL 9.28125 54.6875 \nL 9.28125 70.21875 \nz\n\" id=\"DejaVuSans-116\"/>\n     </defs>\n     <use xlink:href=\"#DejaVuSans-84\"/>\n     <use x=\"46.333984\" xlink:href=\"#DejaVuSans-114\"/>\n     <use x=\"87.447266\" xlink:href=\"#DejaVuSans-97\"/>\n     <use x=\"148.726562\" xlink:href=\"#DejaVuSans-105\"/>\n     <use x=\"176.509766\" xlink:href=\"#DejaVuSans-110\"/>\n     <use x=\"239.888672\" xlink:href=\"#DejaVuSans-101\"/>\n     <use x=\"301.412109\" xlink:href=\"#DejaVuSans-100\"/>\n     <use x=\"364.888672\" xlink:href=\"#DejaVuSans-32\"/>\n     <use x=\"396.675781\" xlink:href=\"#DejaVuSans-109\"/>\n     <use x=\"494.087891\" xlink:href=\"#DejaVuSans-111\"/>\n     <use x=\"555.269531\" xlink:href=\"#DejaVuSans-100\"/>\n     <use x=\"618.746094\" xlink:href=\"#DejaVuSans-101\"/>\n     <use x=\"680.269531\" xlink:href=\"#DejaVuSans-108\"/>\n     <use x=\"708.052734\" xlink:href=\"#DejaVuSans-32\"/>\n     <use x=\"739.839844\" xlink:href=\"#DejaVuSans-112\"/>\n     <use x=\"803.316406\" xlink:href=\"#DejaVuSans-108\"/>\n     <use x=\"831.099609\" xlink:href=\"#DejaVuSans-111\"/>\n     <use x=\"892.28125\" xlink:href=\"#DejaVuSans-116\"/>\n    </g>\n   </g>\n  </g>\n </g>\n <defs>\n  <clipPath id=\"pf343b93527\">\n   <rect height=\"217.44\" width=\"334.8\" x=\"46.965625\" y=\"22.318125\"/>\n  </clipPath>\n </defs>\n</svg>\n",
      "image/png": "[encoded data removed]"
     },
     "metadata": {
      "needs_background": "light"
     }
    }
   ]
  },
  {
   "source": [
    "# Conclusions\n",
    "\n",
    "This was simple test data that was put up to exemplify linear regression. So these conclusions cannot have any real world causes.\n",
    "\n",
    "1. The data set was developed in a linear fashion, probably with some consideration to error because the standard deviation is less than 2%, which is really improbable.\n",
    "\n",
    "2. The linear regression model gains confidence from testing more data because the annomolies will be weighed out but the larger number of data points.\n",
    "\n",
    "3. If we have an annomoly in our training data, it will heavily affect the confidence of our regression model."
   ],
   "cell_type": "markdown",
   "metadata": {}
  }
 ]
}